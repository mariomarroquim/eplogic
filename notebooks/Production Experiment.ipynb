{
 "cells": [
  {
   "cell_type": "code",
   "execution_count": 13,
   "id": "698de9f6",
   "metadata": {},
   "outputs": [
    {
     "name": "stdout",
     "output_type": "stream",
     "text": [
      "\n",
      "All fine!\n"
     ]
    }
   ],
   "source": [
    "print()\n",
    "\n",
    "import warnings; warnings.simplefilter('ignore')\n",
    "import pandas                  as pd\n",
    "import numpy                   as np\n",
    "import sklearn.model_selection as ms\n",
    "import sklearn.metrics         as mt\n",
    "from imblearn.under_sampling   import RandomUnderSampler\n",
    "from sklearn.ensemble          import RandomForestClassifier\n",
    "from sklearn.model_selection   import RandomizedSearchCV\n",
    "from joblib                    import dump, load\n",
    "\n",
    "print('All fine!')"
   ]
  },
  {
   "cell_type": "code",
   "execution_count": 6,
   "id": "77b703ad",
   "metadata": {},
   "outputs": [
    {
     "name": "stdout",
     "output_type": "stream",
     "text": [
      "\n",
      "PE dataset: (81399, 12)\n",
      "SP dataset: (67683, 12)\n"
     ]
    }
   ],
   "source": [
    "print()\n",
    "\n",
    "instances_pe = pd.read_csv('./datasets/pe-dataset.csv')\n",
    "print('PE dataset:', instances_pe.shape)\n",
    "\n",
    "instances_sp = pd.read_csv('./datasets/sp-dataset.csv')\n",
    "print('SP dataset:', instances_sp.shape)"
   ]
  },
  {
   "cell_type": "code",
   "execution_count": 7,
   "id": "981b62ed",
   "metadata": {},
   "outputs": [
    {
     "name": "stdout",
     "output_type": "stream",
     "text": [
      "\n",
      "PE cleaned dataset: (81399, 6)\n",
      "SP cleaned dataset: (67683, 10)\n"
     ]
    }
   ],
   "source": [
    "print()\n",
    "\n",
    "cln_instances_pe = instances_pe.drop(columns=['panel_info', 'panel_eplet', 'locus_abc', 'locus_dp', 'locus_dq', 'locus_dr'])\n",
    "print('PE cleaned dataset:', cln_instances_pe.shape)\n",
    "\n",
    "cln_instances_sp = instances_sp.drop(columns=['panel_info', 'panel_eplet'])\n",
    "print('SP cleaned dataset:', cln_instances_sp.shape)"
   ]
  },
  {
   "cell_type": "code",
   "execution_count": 8,
   "id": "f2e86f81",
   "metadata": {},
   "outputs": [
    {
     "name": "stdout",
     "output_type": "stream",
     "text": [
      "\n",
      "Train labels (PE) (6836, 5)\n",
      "Train instances (PE): (6836,)\n",
      "\n",
      "Train labels (SP) (3626, 9)\n",
      "Train instances (SP): (3626,)\n"
     ]
    }
   ],
   "source": [
    "print()\n",
    "\n",
    "imb_train_labels_pe = np.array(cln_instances_pe['reactive'])\n",
    "imb_instances_pe = cln_instances_pe.drop(columns=['reactive'])\n",
    "\n",
    "rus = RandomUnderSampler()\n",
    "\n",
    "train_instances_pe, train_labels_pe = rus.fit_sample(imb_instances_pe, imb_train_labels_pe)\n",
    "\n",
    "print('Train labels (PE)', train_instances_pe.shape)\n",
    "print('Train instances (PE):', train_labels_pe.shape)\n",
    "\n",
    "print()\n",
    "\n",
    "imb_train_labels_sp = np.array(cln_instances_sp['reactive'])\n",
    "imb_instances_sp = cln_instances_sp.drop(columns=['reactive'])\n",
    "\n",
    "train_instances_sp, train_labels_sp = rus.fit_sample(imb_instances_sp, imb_train_labels_sp)\n",
    "\n",
    "print('Train labels (SP)', train_instances_sp.shape)\n",
    "print('Train instances (SP):', train_labels_sp.shape)"
   ]
  },
  {
   "cell_type": "code",
   "execution_count": 10,
   "id": "7a27fb45",
   "metadata": {},
   "outputs": [
    {
     "name": "stdout",
     "output_type": "stream",
     "text": [
      "\n",
      "Parameter names currently in use by RF:\n",
      "\n",
      "{'bootstrap': True, 'ccp_alpha': 0.0, 'class_weight': None, 'criterion': 'gini', 'max_depth': None, 'max_features': 'auto', 'max_leaf_nodes': None, 'max_samples': None, 'min_impurity_decrease': 0.0, 'min_impurity_split': None, 'min_samples_leaf': 1, 'min_samples_split': 2, 'min_weight_fraction_leaf': 0.0, 'n_estimators': 100, 'n_jobs': None, 'oob_score': False, 'random_state': None, 'verbose': 0, 'warm_start': False}\n",
      "\n",
      "PE ---\n",
      "\n",
      "Best parameters:\n",
      "\n",
      "{'n_estimators': 200, 'min_samples_split': 2, 'min_samples_leaf': 4, 'max_features': 'sqrt', 'criterion': 'gini'}\n",
      "\n",
      "First step:\n",
      "\n",
      "- Confusion matrix (TN FP FN TP): [2643  775  356 3062]\n",
      "- AUC-ROC: 83.46\n",
      "- Accuracy: 83.46\n",
      "\n",
      "Second step:\n",
      "\n",
      "- AUC-ROC:  88.51 (+/- 0.68)\n",
      "- Accuracy: 83.41 (+/- 1.11)\n",
      "\n",
      "SP ---\n",
      "\n",
      "Best parameters:\n",
      "\n",
      "{'n_estimators': 400, 'min_samples_split': 2, 'min_samples_leaf': 4, 'max_features': 'auto', 'criterion': 'gini'}\n",
      "\n",
      "First step:\n",
      "\n",
      "- Confusion matrix (TN FP FN TP): [1553  260   92 1721]\n",
      "- AUC-ROC: 90.29\n",
      "- Accuracy: 90.29\n",
      "\n",
      "Second step:\n",
      "\n",
      "- AUC-ROC:  94.05 (+/- 0.62)\n",
      "- Accuracy: 90.13 (+/- 0.62)\n"
     ]
    }
   ],
   "source": [
    "clf = RandomForestClassifier()\n",
    "cv = 5\n",
    "scoring = ['roc_auc', 'accuracy']\n",
    "\n",
    "print()\n",
    "print('Parameter names currently in use by RF:\\n')\n",
    "print(clf.get_params())\n",
    "\n",
    "param_grid = {\n",
    "  'n_estimators': [100, 200, 400],\n",
    "  'criterion': ['gini', 'entropy'],\n",
    "  'min_samples_split': [2, 4, 8],\n",
    "  'min_samples_leaf': [1, 2, 4],\n",
    "  'max_features': [None, 'auto', 'sqrt', 'log2']\n",
    "}\n",
    "\n",
    "print('\\nPE ---')\n",
    "\n",
    "params_search = RandomizedSearchCV(estimator=clf, param_distributions=param_grid, n_iter=cv, scoring='roc_auc', n_jobs=3, cv=(cv*cv))\n",
    "params_search.fit(train_instances_pe, train_labels_pe)\n",
    "\n",
    "print()\n",
    "print('Best parameters:\\n')\n",
    "print(params_search.best_params_)\n",
    "\n",
    "predicted_labels_pe = ms.cross_val_predict(params_search.best_estimator_, train_instances_pe, train_labels_pe, n_jobs=3, cv=cv)\n",
    "\n",
    "print()\n",
    "print('First step:\\n')\n",
    "print('- Confusion matrix (TN FP FN TP):', mt.confusion_matrix(train_labels_pe, predicted_labels_pe).ravel())\n",
    "print(\"- AUC-ROC: %0.2f\" % (mt.roc_auc_score(train_labels_pe, predicted_labels_pe)*100))\n",
    "print(\"- Accuracy: %0.2f\" % (mt.accuracy_score(train_labels_pe, predicted_labels_pe)*100))\n",
    "\n",
    "scores = ms.cross_validate(params_search.best_estimator_, train_instances_pe, train_labels_pe, scoring=scoring, n_jobs=3, cv=cv)\n",
    "\n",
    "print()\n",
    "print('Second step:\\n')\n",
    "print(\"- AUC-ROC:  %0.2f (+/- %0.2f)\" % (scores['test_roc_auc'].mean()*100, scores['test_roc_auc'].std()*100))\n",
    "print(\"- Accuracy: %0.2f (+/- %0.2f)\" % (scores['test_accuracy'].mean()*100, scores['test_accuracy'].std()*100))\n",
    "\n",
    "print('\\nSP ---')\n",
    "\n",
    "params_search = RandomizedSearchCV(estimator=clf, param_distributions=param_grid, n_iter=cv, scoring='roc_auc', n_jobs=3, cv=(cv*cv))\n",
    "params_search.fit(train_instances_sp, train_labels_sp)\n",
    "\n",
    "print()\n",
    "print('Best parameters:\\n')\n",
    "print(params_search.best_params_)\n",
    "\n",
    "predicted_labels_sp = ms.cross_val_predict(params_search.best_estimator_, train_instances_sp, train_labels_sp, cv=cv, n_jobs=-1)\n",
    "\n",
    "print()\n",
    "print('First step:\\n')\n",
    "print('- Confusion matrix (TN FP FN TP):', mt.confusion_matrix(train_labels_sp, predicted_labels_sp).ravel())\n",
    "print(\"- AUC-ROC: %0.2f\" % (mt.roc_auc_score(train_labels_sp, predicted_labels_sp)*100))\n",
    "print(\"- Accuracy: %0.2f\" % (mt.accuracy_score(train_labels_sp, predicted_labels_sp)*100))\n",
    "\n",
    "scores = ms.cross_validate(params_search.best_estimator_, train_instances_sp, train_labels_sp, cv=cv, n_jobs=-1, scoring=scoring)\n",
    "\n",
    "print()\n",
    "print('Second step:\\n')\n",
    "print(\"- AUC-ROC:  %0.2f (+/- %0.2f)\" % (scores['test_roc_auc'].mean()*100, scores['test_roc_auc'].std()*100))\n",
    "print(\"- Accuracy: %0.2f (+/- %0.2f)\" % (scores['test_accuracy'].mean()*100, scores['test_accuracy'].std()*100))"
   ]
  },
  {
   "cell_type": "code",
   "execution_count": 17,
   "id": "87c79c18",
   "metadata": {},
   "outputs": [
    {
     "name": "stdout",
     "output_type": "stream",
     "text": [
      "\n",
      "All fine!\n"
     ]
    }
   ],
   "source": [
    "print()\n",
    "\n",
    "dump(params_search.best_estimator_, 'eplogic.joblib')\n",
    "print('All fine!')"
   ]
  },
  {
   "cell_type": "code",
   "execution_count": null,
   "id": "8cf9327e",
   "metadata": {},
   "outputs": [],
   "source": []
  }
 ],
 "metadata": {
  "kernelspec": {
   "display_name": "machine-learning",
   "language": "python",
   "name": "machinelearning"
  },
  "language_info": {
   "codemirror_mode": {
    "name": "ipython",
    "version": 3
   },
   "file_extension": ".py",
   "mimetype": "text/x-python",
   "name": "python",
   "nbconvert_exporter": "python",
   "pygments_lexer": "ipython3",
   "version": "3.8.10"
  }
 },
 "nbformat": 4,
 "nbformat_minor": 5
}
