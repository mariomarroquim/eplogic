{
 "cells": [
  {
   "cell_type": "markdown",
   "id": "87d3227f",
   "metadata": {},
   "source": [
    "## Import libraries"
   ]
  },
  {
   "cell_type": "code",
   "execution_count": 30,
   "id": "698de9f6",
   "metadata": {},
   "outputs": [
    {
     "name": "stdout",
     "output_type": "stream",
     "text": [
      "\n",
      "All fine!\n"
     ]
    }
   ],
   "source": [
    "print()\n",
    "\n",
    "import warnings; warnings.simplefilter('ignore')\n",
    "import pandas                  as pd\n",
    "import numpy                   as np\n",
    "import sklearn.model_selection as ms\n",
    "import sklearn.metrics         as mt\n",
    "from imblearn.under_sampling   import RandomUnderSampler\n",
    "from sklearn.ensemble          import RandomForestClassifier\n",
    "from sklearn.model_selection   import RandomizedSearchCV\n",
    "from joblib                    import dump, load\n",
    "\n",
    "print('All fine!')"
   ]
  },
  {
   "cell_type": "markdown",
   "id": "80109265",
   "metadata": {},
   "source": [
    "## Prepare datasets"
   ]
  },
  {
   "cell_type": "code",
   "execution_count": 31,
   "id": "981b62ed",
   "metadata": {},
   "outputs": [
    {
     "name": "stdout",
     "output_type": "stream",
     "text": [
      "\n",
      "PE raw dataset: (81399, 12)\n",
      "PE cleaned dataset: (81399, 10)\n",
      "PE train labels (6836, 9)\n",
      "PE train instances: (6836,)\n",
      "\n",
      "SP raw dataset: (67683, 12)\n",
      "SP cleaned dataset: (67683, 10)\n",
      "SP train labels (3626, 9)\n",
      "SP train instances: (3626,)\n"
     ]
    }
   ],
   "source": [
    "print()\n",
    "\n",
    "rus = RandomUnderSampler()\n",
    "\n",
    "instances_pe = pd.read_csv('./datasets/pe-dataset.csv')\n",
    "print('PE raw dataset:', instances_pe.shape)\n",
    "\n",
    "cln_instances_pe = instances_pe.drop(columns=['panel_info', 'panel_eplet'])\n",
    "print('PE cleaned dataset:', cln_instances_pe.shape)\n",
    "\n",
    "imb_train_labels_pe = np.array(cln_instances_pe['reactive'])\n",
    "imb_instances_pe = cln_instances_pe.drop(columns=['reactive'])\n",
    "train_instances_pe, train_labels_pe = rus.fit_sample(imb_instances_pe, imb_train_labels_pe)\n",
    "\n",
    "print('PE train labels', train_instances_pe.shape)\n",
    "print('PE train instances:', train_labels_pe.shape)\n",
    "\n",
    "print()\n",
    "\n",
    "instances_sp = pd.read_csv('./datasets/sp-dataset.csv')\n",
    "print('SP raw dataset:', instances_sp.shape)\n",
    "\n",
    "cln_instances_sp = instances_sp.drop(columns=['panel_info', 'panel_eplet'])\n",
    "print('SP cleaned dataset:', cln_instances_sp.shape)\n",
    "\n",
    "imb_train_labels_sp = np.array(cln_instances_sp['reactive'])\n",
    "imb_instances_sp = cln_instances_sp.drop(columns=['reactive'])\n",
    "train_instances_sp, train_labels_sp = rus.fit_sample(imb_instances_sp, imb_train_labels_sp)\n",
    "\n",
    "print('SP train labels', train_instances_sp.shape)\n",
    "print('SP train instances:', train_labels_sp.shape)"
   ]
  },
  {
   "cell_type": "markdown",
   "id": "cae9f601",
   "metadata": {},
   "source": [
    "## Build production model"
   ]
  },
  {
   "cell_type": "code",
   "execution_count": 32,
   "id": "e567b696",
   "metadata": {},
   "outputs": [
    {
     "name": "stdout",
     "output_type": "stream",
     "text": [
      "\n",
      "All fine!\n"
     ]
    }
   ],
   "source": [
    "print()\n",
    "\n",
    "clf = RandomForestClassifier()\n",
    "\n",
    "param_grid = {\n",
    "  'n_estimators': [100, 200, 400],\n",
    "  'criterion': ['gini', 'entropy'],\n",
    "  'min_samples_split': [2, 4, 8],\n",
    "  'min_samples_leaf': [1, 2, 4],\n",
    "  'max_features': [None, 'auto', 'sqrt', 'log2']\n",
    "}\n",
    "\n",
    "params_search = RandomizedSearchCV(estimator=clf, param_distributions=param_grid, scoring='roc_auc', n_jobs=3)\n",
    "params_search.fit(train_instances_pe, train_labels_pe)\n",
    "\n",
    "production_model = params_search.best_estimator_\n",
    "\n",
    "print('All fine!')"
   ]
  },
  {
   "cell_type": "markdown",
   "id": "8a24ec23",
   "metadata": {},
   "source": [
    "## Validate production model with PE dataset (internal)"
   ]
  },
  {
   "cell_type": "code",
   "execution_count": 33,
   "id": "7a27fb45",
   "metadata": {},
   "outputs": [
    {
     "name": "stdout",
     "output_type": "stream",
     "text": [
      "\n",
      "PE Confusion matrix (TN FP FN TP): [2632  786  274 3144]\n",
      "PE AUC-ROC: 84.49\n"
     ]
    }
   ],
   "source": [
    "print()\n",
    "\n",
    "predicted_labels_pe = ms.cross_val_predict(production_model, train_instances_pe, train_labels_pe, n_jobs=3)\n",
    "\n",
    "print('PE Confusion matrix (TN FP FN TP):', mt.confusion_matrix(train_labels_pe, predicted_labels_pe).ravel())\n",
    "print(\"PE AUC-ROC: %0.2f\" % (mt.roc_auc_score(train_labels_pe, predicted_labels_pe)*100))"
   ]
  },
  {
   "cell_type": "markdown",
   "id": "f5b997d8",
   "metadata": {},
   "source": [
    "## Validate production model with SP dataset (external)"
   ]
  },
  {
   "cell_type": "code",
   "execution_count": 34,
   "id": "8cf9327e",
   "metadata": {},
   "outputs": [
    {
     "name": "stdout",
     "output_type": "stream",
     "text": [
      "\n",
      "SP Confusion matrix (TN FP FN TP): [1539  274   98 1715]\n",
      "SP AUC-ROC: 89.74\n"
     ]
    }
   ],
   "source": [
    "print()\n",
    "\n",
    "predicted_labels_sp = ms.cross_val_predict(production_model, train_instances_sp, train_labels_sp, n_jobs=-3)\n",
    "\n",
    "print('SP Confusion matrix (TN FP FN TP):', mt.confusion_matrix(train_labels_sp, predicted_labels_sp).ravel())\n",
    "print(\"SP AUC-ROC: %0.2f\" % (mt.roc_auc_score(train_labels_sp, predicted_labels_sp)*100))"
   ]
  },
  {
   "cell_type": "markdown",
   "id": "5a48f484",
   "metadata": {},
   "source": [
    "## Persist production model"
   ]
  },
  {
   "cell_type": "code",
   "execution_count": 35,
   "id": "87c79c18",
   "metadata": {},
   "outputs": [
    {
     "name": "stdout",
     "output_type": "stream",
     "text": [
      "\n",
      "All fine!\n"
     ]
    }
   ],
   "source": [
    "print()\n",
    "\n",
    "dump(params_search.best_estimator_, 'eplogic.joblib')\n",
    "\n",
    "print('All fine!')"
   ]
  },
  {
   "cell_type": "code",
   "execution_count": null,
   "id": "5e110b80",
   "metadata": {},
   "outputs": [],
   "source": []
  }
 ],
 "metadata": {
  "kernelspec": {
   "display_name": "machine-learning",
   "language": "python",
   "name": "machinelearning"
  },
  "language_info": {
   "codemirror_mode": {
    "name": "ipython",
    "version": 3
   },
   "file_extension": ".py",
   "mimetype": "text/x-python",
   "name": "python",
   "nbconvert_exporter": "python",
   "pygments_lexer": "ipython3",
   "version": "3.8.10"
  }
 },
 "nbformat": 4,
 "nbformat_minor": 5
}
